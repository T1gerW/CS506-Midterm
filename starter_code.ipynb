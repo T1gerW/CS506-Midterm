{
 "cells": [
  {
   "cell_type": "markdown",
   "metadata": {},
   "source": [
    "# Libraries"
   ]
  },
  {
   "cell_type": "code",
   "execution_count": 82,
   "metadata": {},
   "outputs": [],
   "source": [
    "import pandas as pd\n",
    "import seaborn as sns\n",
    "from os.path import exists\n",
    "import matplotlib.pyplot as plt\n",
    "from sklearn.neighbors import KNeighborsClassifier\n",
    "from sklearn.model_selection import train_test_split\n",
    "from sklearn.metrics import accuracy_score, confusion_matrix"
   ]
  },
  {
   "cell_type": "markdown",
   "metadata": {},
   "source": [
    "# Loading the Files\n",
    "\n",
    "Download the csv files into the `data/` directory."
   ]
  },
  {
   "cell_type": "code",
   "execution_count": null,
   "metadata": {},
   "outputs": [],
   "source": [
    "trainingSet = pd.read_csv(\"./data/train.csv\")\n",
    "testingSet = pd.read_csv(\"./data/test.csv\")\n",
    "\n",
    "print(\"train.csv shape is \", trainingSet.shape)\n",
    "print(\"test.csv shape is \", testingSet.shape)\n",
    "\n",
    "print()\n",
    "\n",
    "print(trainingSet.head(3))\n",
    "print()\n",
    "##print(testingSet.head())\n",
    "\n",
    "print()\n",
    "\n",
    "##print(trainingSet.describe())\n",
    "\n",
    "##trainingSet['Score'].value_counts().plot(kind='bar', legend=True, alpha=.5)\n",
    "##plt.show()\n",
    "\n",
    "print()\n",
    "print(\"EVERYTHING IS PROPERLY SET UP! YOU ARE READY TO START\")"
   ]
  },
  {
   "cell_type": "markdown",
   "metadata": {},
   "source": [
    "# Adding Features"
   ]
  },
  {
   "cell_type": "code",
   "execution_count": 86,
   "metadata": {},
   "outputs": [
    {
     "name": "stderr",
     "output_type": "stream",
     "text": [
      "[nltk_data] Downloading package vader_lexicon to\n",
      "[nltk_data]     /Users/tianxiaoshan/nltk_data...\n",
      "[nltk_data]   Package vader_lexicon is already up-to-date!\n"
     ]
    },
    {
     "name": "stdout",
     "output_type": "stream",
     "text": [
      "Feature extraction and file saving completed.\n"
     ]
    }
   ],
   "source": [
    "import re\n",
    "import pandas as pd\n",
    "\n",
    "def add_features_to(df):\n",
    "\n",
    "    # Helpfulness Score\n",
    "    df['Helpfulness'] = df['HelpfulnessNumerator'] / (df['HelpfulnessDenominator'] + 1)\n",
    "    df['Helpfulness'] = df['Helpfulness'].fillna(0)\n",
    "\n",
    "    # Define expanded positive and negative words and negation pattern\n",
    "    positive_words = r'\\b(?:good|great|excellent|fantastic|amazing|love|awesome|wonderful|perfect|positive|happy|delightful|enjoyable|brilliant|cool)\\b'\n",
    "    negative_words = r'\\b(?:bad|terrible|poor|awful|dislike|hate|horrible|disappointing|negative|sad|unhappy|dreadful|worst|annoying|lame)\\b'\n",
    "    negation_pattern = r'\\b(?:not|never|no|none)\\b'\n",
    "\n",
    "    # Precompile regex patterns for efficiency\n",
    "    positive_regex = re.compile(positive_words, re.IGNORECASE)\n",
    "    negative_regex = re.compile(negative_words, re.IGNORECASE)\n",
    "    negation_regex = re.compile(negation_pattern, re.IGNORECASE)\n",
    "\n",
    "    # Function to detect positive and negative word counts, considering negations\n",
    "    def detect_sentiment_indicators(text):\n",
    "        text = str(text).lower()  # Convert text to lowercase for consistent matching\n",
    "\n",
    "        # Find all positive and negative words\n",
    "        positive_matches = positive_regex.findall(text)\n",
    "        negative_matches = negative_regex.findall(text)\n",
    "\n",
    "        # Detect negated positive and negative phrases\n",
    "        negated_positive_matches = re.findall(negation_pattern + r'\\s+' + positive_words, text)\n",
    "        negated_negative_matches = re.findall(negation_pattern + r'\\s+' + negative_words, text)\n",
    "\n",
    "        # Calculate final indicators, adjusting for negations\n",
    "        positive_indicator = len(positive_matches) - len(negated_positive_matches)\n",
    "        negative_indicator = len(negative_matches) - len(negated_negative_matches)\n",
    "\n",
    "        return positive_indicator, negative_indicator\n",
    "    \n",
    "    from nltk.sentiment.vader import SentimentIntensityAnalyzer\n",
    "    import nltk\n",
    "\n",
    "    nltk.download('vader_lexicon')\n",
    "    sia = SentimentIntensityAnalyzer()\n",
    "\n",
    "    # Apply the function to each row in the DataFrame\n",
    "    sentiment_indicators = df['Text'].fillna('').apply(detect_sentiment_indicators)\n",
    "    df['positive_indicator'], df['negative_indicator'] = zip(*sentiment_indicators)\n",
    "\n",
    "    # Review length and summary length\n",
    "    df['review_length'] = df['Text'].apply(lambda x: len(str(x).split()))\n",
    "    df['summary_length'] = df['Summary'].apply(lambda x: len(str(x).split()) if pd.notnull(x) else 0)\n",
    "\n",
    "    # Sentiment polarity using VADER\n",
    "    df['polarity'] = df['Text'].apply(lambda x: sia.polarity_scores(str(x))['compound'])\n",
    "\n",
    "    return df\n",
    "\n",
    "import pandas as pd\n",
    "from os.path import exists\n",
    "\n",
    "# Load the feature extracted files if they already exist\n",
    "if exists('./data/X_train.csv'):\n",
    "    X_train = pd.read_csv(\"./data/X_train.csv\")\n",
    "if exists('./data/X_submission.csv'):\n",
    "    X_submission = pd.read_csv(\"./data/X_submission.csv\")\n",
    "else:\n",
    "    # Process the training DataFrame\n",
    "    train = add_features_to(trainingSet)\n",
    "\n",
    "    # Load test.csv, which includes Id and an empty Score column\n",
    "    test = pd.read_csv('./data/test.csv')\n",
    "\n",
    "    # Merge on 'Id' to bring feature columns from `train` into `test`\n",
    "    X_submission = pd.merge(test[['Id']], train.drop(columns=['Score']), on='Id', how='left')\n",
    "\n",
    "    # X_train contains only rows from `train` where Score is not null\n",
    "    X_train = train[train['Score'].notnull()]\n",
    "\n",
    "    # Save processed files for future use\n",
    "    X_submission.to_csv(\"./data/X_submission.csv\", index=False)\n",
    "    X_train.to_csv(\"./data/X_train.csv\", index=False)\n",
    "\n",
    "print(\"Feature extraction and file saving completed.\")\n",
    "\n"
   ]
  },
  {
   "cell_type": "markdown",
   "metadata": {},
   "source": [
    "# Model Creation"
   ]
  },
  {
   "cell_type": "code",
   "execution_count": 90,
   "metadata": {},
   "outputs": [
    {
     "name": "stderr",
     "output_type": "stream",
     "text": [
      "[nltk_data] Downloading package vader_lexicon to\n",
      "[nltk_data]     /Users/tianxiaoshan/nltk_data...\n",
      "[nltk_data]   Package vader_lexicon is already up-to-date!\n"
     ]
    },
    {
     "name": "stdout",
     "output_type": "stream",
     "text": [
      "XGBoost Accuracy on Sampled Data with New Features: 0.5548437453977791\n"
     ]
    }
   ],
   "source": [
    "import pandas as pd\n",
    "from sklearn.model_selection import train_test_split\n",
    "from sklearn.feature_extraction.text import TfidfVectorizer\n",
    "import xgboost as xgb\n",
    "from sklearn.metrics import accuracy_score\n",
    "import scipy.sparse as sp\n",
    "\n",
    "# Sample 20% of the data from the training set\n",
    "sampled_df = trainingSet.sample(frac=0.2, random_state=42)\n",
    "\n",
    "# Apply feature engineering to add the new features\n",
    "sampled_df = add_features_to(sampled_df)\n",
    "\n",
    "# Vectorize the 'Text' column using TF-IDF\n",
    "tfidf = TfidfVectorizer(max_features=5000)\n",
    "train_text_tfidf = tfidf.fit_transform(sampled_df['Text'].fillna(''))\n",
    "\n",
    "# Combine TF-IDF features with all relevant numeric features from add_features_to\n",
    "numeric_features = sampled_df[['Helpfulness', 'review_length', 'summary_length', \n",
    "                               'positive_indicator', 'negative_indicator', 'polarity']].fillna(0)\n",
    "\n",
    "# Combine TF-IDF and numeric features into a final feature matrix\n",
    "X = sp.hstack([train_text_tfidf, numeric_features])\n",
    "\n",
    "# Target variable\n",
    "y = sampled_df['Score'].fillna(0)\n",
    "\n",
    "# Split the data into training and validation sets\n",
    "X_train, X_val, y_train, y_val = train_test_split(X, y, test_size=0.2, random_state=42)\n",
    "\n",
    "# Train the XGBoost model\n",
    "xgb_model = xgb.XGBClassifier(\n",
    "    n_estimators=500,  # Number of estimators\n",
    "    learning_rate=0.1, \n",
    "    max_depth=6, \n",
    "    subsample=0.8, \n",
    "    colsample_bytree=0.8\n",
    ")\n",
    "\n",
    "xgb_model.fit(X_train, y_train)\n",
    "\n",
    "# Evaluate the model\n",
    "y_pred = xgb_model.predict(X_val)\n",
    "accuracy = accuracy_score(y_val, y_pred)\n",
    "print(f'XGBoost Accuracy on Sampled Data with New Features: {accuracy}')\n"
   ]
  },
  {
   "cell_type": "markdown",
   "metadata": {},
   "source": [
    "# Model Evaluation"
   ]
  },
  {
   "cell_type": "code",
   "execution_count": 91,
   "metadata": {},
   "outputs": [
    {
     "name": "stdout",
     "output_type": "stream",
     "text": [
      "Accuracy on validation set =  0.5548437453977791\n"
     ]
    },
    {
     "data": {
      "image/png": "[encoded data removed]",
      "text/plain": [
       "<Figure size 640x480 with 2 Axes>"
      ]
     },
     "metadata": {},
     "output_type": "display_data"
    }
   ],
   "source": [
    "from sklearn.metrics import accuracy_score, confusion_matrix\n",
    "import seaborn as sns\n",
    "import matplotlib.pyplot as plt\n",
    "\n",
    "# Evaluate your model on the validation set\n",
    "print(\"Accuracy on validation set = \", accuracy_score(y_val, y_pred))\n",
    "\n",
    "# Plot a confusion matrix\n",
    "cm = confusion_matrix(y_val, y_pred, normalize='true')\n",
    "sns.heatmap(cm, annot=True, cmap=\"Blues\", fmt=\".2f\")\n",
    "plt.title('Confusion matrix of the classifier')\n",
    "plt.xlabel('Predicted')\n",
    "plt.ylabel('True')\n",
    "plt.show()\n"
   ]
  },
  {
   "cell_type": "markdown",
   "metadata": {},
   "source": [
    "# Creating Submission File"
   ]
  },
  {
   "cell_type": "code",
   "execution_count": 92,
   "metadata": {},
   "outputs": [
    {
     "name": "stderr",
     "output_type": "stream",
     "text": [
      "[nltk_data] Downloading package vader_lexicon to\n",
      "[nltk_data]     /Users/tianxiaoshan/nltk_data...\n",
      "[nltk_data]   Package vader_lexicon is already up-to-date!\n"
     ]
    },
    {
     "name": "stdout",
     "output_type": "stream",
     "text": [
      "submission.csv created successfully.\n"
     ]
    }
   ],
   "source": [
    "import pandas as pd\n",
    "import numpy as np\n",
    "from scipy.sparse import hstack\n",
    "from sklearn.feature_extraction.text import TfidfVectorizer\n",
    "\n",
    "# Load X_submission.csv and apply feature engineering\n",
    "X_submission = pd.read_csv(\"./data/X_submission.csv\")\n",
    "\n",
    "# Ensure 'Text' and 'Summary' columns in X_submission are strings for consistency\n",
    "X_submission['Text'] = X_submission['Text'].astype(str)\n",
    "X_submission['Summary'] = X_submission['Summary'].astype(str)\n",
    "\n",
    "# Apply feature engineering using add_features_to function to ensure all required features are present\n",
    "X_submission = add_features_to(X_submission)\n",
    "\n",
    "# Vectorize the 'Text' column using the already fitted TF-IDF vectorizer\n",
    "submission_text_tfidf = tfidf.transform(X_submission['Text'].fillna(''))\n",
    "\n",
    "# Prepare numeric features (ensure the columns are present)\n",
    "numeric_features_submission = X_submission[[\n",
    "    'Helpfulness', 'review_length', 'summary_length', \n",
    "    'contains_positive_words', 'contains_negative_words', \n",
    "    'polarity'\n",
    "]].fillna(0)\n",
    "\n",
    "# Combine TF-IDF and numeric features using hstack\n",
    "X_test = hstack([submission_text_tfidf, numeric_features_submission.values])\n",
    "\n",
    "# Predict using the trained model\n",
    "y_test_pred = xgb_model.predict(X_test)\n",
    "\n",
    "# Round the predictions to the nearest integer between 1 and 5\n",
    "y_test_pred_rounded = np.clip(np.round(y_test_pred), 1, 5)\n",
    "\n",
    "# Create the submission DataFrame with 'Id' and 'Score'\n",
    "X_submission['Score'] = y_test_pred_rounded\n",
    "submission = X_submission[['Id', 'Score']]\n",
    "submission.to_csv(\"./data/submission.csv\", index=False)\n",
    "\n",
    "print(\"submission.csv created successfully.\")\n"
   ]
  }
 ],
 "metadata": {
  "kernelspec": {
   "display_name": "env",
   "language": "python",
   "name": "python3"
  },
  "language_info": {
   "codemirror_mode": {
    "name": "ipython",
    "version": 3
   },
   "file_extension": ".py",
   "mimetype": "text/x-python",
   "name": "python",
   "nbconvert_exporter": "python",
   "pygments_lexer": "ipython3",
   "version": "3.10.9"
  }
 },
 "nbformat": 4,
 "nbformat_minor": 2
}
